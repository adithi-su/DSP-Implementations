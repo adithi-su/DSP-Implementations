{
  "nbformat": 4,
  "nbformat_minor": 0,
  "metadata": {
    "colab": {
      "name": "Python-NumPy.ipynb",
      "provenance": [],
      "collapsed_sections": []
    },
    "kernelspec": {
      "name": "python3",
      "display_name": "Python 3"
    }
  },
  "cells": [
    {
      "cell_type": "code",
      "metadata": {
        "id": "OJ43J_4i3S9Y"
      },
      "source": [
        "# NumPy or Numerical Python is a python library used for working with arrays. It also has functions for working in the domain of linear algebra,\n",
        "# fourier tranform, and matrices.\n",
        "# NumPy arrays are stored at one continuous place in memory unlike lists, so processes can access and manipulate them very efficiently. (locality of reference)\n",
        "# Source code for NumPy can be found at https://github.com/numpy/numpy"
      ],
      "execution_count": null,
      "outputs": []
    },
    {
      "cell_type": "markdown",
      "metadata": {
        "id": "y06UyFO2B40D"
      },
      "source": [
        "Install and import NumPy"
      ]
    },
    {
      "cell_type": "code",
      "metadata": {
        "colab": {
          "base_uri": "https://localhost:8080/"
        },
        "id": "yd8ORmz05JcY",
        "outputId": "7a7655d3-e55f-4d3b-eeaa-5eb017078b08"
      },
      "source": [
        "pip install numpy"
      ],
      "execution_count": null,
      "outputs": [
        {
          "output_type": "stream",
          "text": [
            "Requirement already satisfied: numpy in /usr/local/lib/python3.6/dist-packages (1.19.5)\n"
          ],
          "name": "stdout"
        }
      ]
    },
    {
      "cell_type": "code",
      "metadata": {
        "colab": {
          "base_uri": "https://localhost:8080/"
        },
        "id": "7Ng8NxMc5-d3",
        "outputId": "a48fe6a7-287f-4f93-9ff4-b108bb115269"
      },
      "source": [
        "import numpy as np\n",
        "print(np.__version__)"
      ],
      "execution_count": null,
      "outputs": [
        {
          "output_type": "stream",
          "text": [
            "1.19.5\n"
          ],
          "name": "stdout"
        }
      ]
    },
    {
      "cell_type": "markdown",
      "metadata": {
        "id": "bfTApg-G6Oee"
      },
      "source": [
        "Creating NumPy Arrays"
      ]
    },
    {
      "cell_type": "code",
      "metadata": {
        "colab": {
          "base_uri": "https://localhost:8080/"
        },
        "id": "YCuK2Kjm6TMM",
        "outputId": "6463cb6b-4790-4d92-88a9-adda806b675d"
      },
      "source": [
        "arr = np.array([223,45,66,1]) # can also pass tuple or any array-like object into array()\n",
        "print(arr)\n",
        "print(type(arr))"
      ],
      "execution_count": null,
      "outputs": [
        {
          "output_type": "stream",
          "text": [
            "[223  45  66   1]\n",
            "<class 'numpy.ndarray'>\n"
          ],
          "name": "stdout"
        }
      ]
    },
    {
      "cell_type": "code",
      "metadata": {
        "colab": {
          "base_uri": "https://localhost:8080/"
        },
        "id": "jCU4V7yz6cZe",
        "outputId": "863e4fb0-3827-47ee-f2b5-b9ad084564dc"
      },
      "source": [
        "# Dimensions in arrays\n",
        "arr0 = np.array(32) #0D or scalars\n",
        "arr1 = np.array([1,2,3]) #1D or uni-dimensional\n",
        "arr2 = np.array([[1,2,3],[4,5,6]]) #2D\n",
        "\n",
        "print(arr0, arr1, arr2, sep = '\\n')"
      ],
      "execution_count": null,
      "outputs": [
        {
          "output_type": "stream",
          "text": [
            "32\n",
            "[1 2 3]\n",
            "[[1 2 3]\n",
            " [4 5 6]]\n"
          ],
          "name": "stdout"
        }
      ]
    },
    {
      "cell_type": "code",
      "metadata": {
        "colab": {
          "base_uri": "https://localhost:8080/"
        },
        "id": "3bueCPiI7YVj",
        "outputId": "5399906b-09e7-4f06-9bbe-d40f5345736f"
      },
      "source": [
        "# check no of dimensions using ndim attribute\n",
        "print(arr0.ndim)\n",
        "print(arr1.ndim)\n",
        "print(arr2.ndim)"
      ],
      "execution_count": null,
      "outputs": [
        {
          "output_type": "stream",
          "text": [
            "0\n",
            "1\n",
            "2\n"
          ],
          "name": "stdout"
        }
      ]
    },
    {
      "cell_type": "code",
      "metadata": {
        "colab": {
          "base_uri": "https://localhost:8080/"
        },
        "id": "qdEFgcoP79B5",
        "outputId": "50348992-3ffa-4f7b-8b68-8e832fb82643"
      },
      "source": [
        "# Higher dimensional Arrays - can define no of dimensions using ndmin argument\n",
        "arr = np.array([223,45,66,1],ndmin=6)\n",
        "print(arr)\n",
        "print('no of dimensions =',arr.ndim)"
      ],
      "execution_count": null,
      "outputs": [
        {
          "output_type": "stream",
          "text": [
            "[[[[[[223  45  66   1]]]]]]\n",
            "no of dimensions = 6\n"
          ],
          "name": "stdout"
        }
      ]
    },
    {
      "cell_type": "markdown",
      "metadata": {
        "id": "Pw4lDzRs8ilE"
      },
      "source": [
        "Array Indexing"
      ]
    },
    {
      "cell_type": "code",
      "metadata": {
        "colab": {
          "base_uri": "https://localhost:8080/"
        },
        "id": "CA_zMRmH8lk8",
        "outputId": "628f3726-4f43-4924-ce9b-ccac5e84336e"
      },
      "source": [
        "print(arr2[0])\n",
        "print('third element on 2nd dim = ', arr2[1,2])\n",
        "# Negative indexing\n",
        "print('Last element from 2nd dim = ', arr2[1,-1])"
      ],
      "execution_count": null,
      "outputs": [
        {
          "output_type": "stream",
          "text": [
            "[1 2 3]\n",
            "third element on 2nd dim =  6\n",
            "Last element from 2nd dim =  6\n"
          ],
          "name": "stdout"
        }
      ]
    },
    {
      "cell_type": "markdown",
      "metadata": {
        "id": "NFTo4yTC9c3W"
      },
      "source": [
        "Array Slicing"
      ]
    },
    {
      "cell_type": "code",
      "metadata": {
        "id": "gKQTQYJF9hyx"
      },
      "source": [
        "# [start:end]\n",
        "# [start:end:step] \n",
        "# default - start = 0, end = array length, step = 1"
      ],
      "execution_count": null,
      "outputs": []
    },
    {
      "cell_type": "code",
      "metadata": {
        "colab": {
          "base_uri": "https://localhost:8080/"
        },
        "id": "HUTOzcbn9xSR",
        "outputId": "ffc4ce1c-5634-4352-bf6d-4091158b314b"
      },
      "source": [
        "arr = np.array([1,2,3,7,8,9])\n",
        "print(arr[2:5])\n",
        "print(arr[2:5:2])\n",
        "print(arr[4:]) #index 4 included\n",
        "print(arr[:4]) # index 4 not included"
      ],
      "execution_count": null,
      "outputs": [
        {
          "output_type": "stream",
          "text": [
            "[3 7 8]\n",
            "[3 8]\n",
            "[8 9]\n",
            "[1 2 3 7]\n"
          ],
          "name": "stdout"
        }
      ]
    },
    {
      "cell_type": "code",
      "metadata": {
        "colab": {
          "base_uri": "https://localhost:8080/"
        },
        "id": "4FjUfLCU-JHP",
        "outputId": "4a2602b7-84b8-49a6-be74-d6fe2e947cfa"
      },
      "source": [
        "# Negative slicing\n",
        "print(arr[-3:-1])\n",
        "print(arr[:-1])"
      ],
      "execution_count": null,
      "outputs": [
        {
          "output_type": "stream",
          "text": [
            "[7 8]\n",
            "[1 2 3 7 8]\n"
          ],
          "name": "stdout"
        }
      ]
    },
    {
      "cell_type": "code",
      "metadata": {
        "colab": {
          "base_uri": "https://localhost:8080/"
        },
        "id": "iU7EkqKv-Wuv",
        "outputId": "178dc2c4-3ae4-4c0c-eb54-517d337551ca"
      },
      "source": [
        "# Slicing 2D arrays\n",
        "arr = np.array([[1,2,3,7,8,9],[1,2,3,7,8,9]])\n",
        "print(arr[1,1:4])\n",
        "print(arr[0:2,1:4])"
      ],
      "execution_count": null,
      "outputs": [
        {
          "output_type": "stream",
          "text": [
            "[2 3 7]\n",
            "[[2 3 7]\n",
            " [2 3 7]]\n"
          ],
          "name": "stdout"
        }
      ]
    },
    {
      "cell_type": "markdown",
      "metadata": {
        "id": "M0dngBZL_VTR"
      },
      "source": [
        "Data Types"
      ]
    },
    {
      "cell_type": "markdown",
      "metadata": {
        "id": "WloSmYF4_d2u"
      },
      "source": [
        "i - integer <br>\n",
        "b - boolean <br>\n",
        "u - unsigned integer <br>\n",
        "f - float <br>\n",
        "c - complex float <br>\n",
        "m - timedata <br>\n",
        "M - datetime <br>\n",
        "O - object <br>\n",
        "S - string <br>\n",
        "U - unicode string <br>\n",
        "V - fixed chunk of memory for other type(void) <br>"
      ]
    },
    {
      "cell_type": "code",
      "metadata": {
        "colab": {
          "base_uri": "https://localhost:8080/"
        },
        "id": "InX8N_D8ALaM",
        "outputId": "177872fc-f535-4eda-ccfa-5cd38526391b"
      },
      "source": [
        " # Checking the data type of an array\n",
        " print(arr.dtype)\n",
        " A = np.array(['macPro','macAir','Airpods'])\n",
        " print(A.dtype)"
      ],
      "execution_count": null,
      "outputs": [
        {
          "output_type": "stream",
          "text": [
            "int64\n",
            "<U7\n"
          ],
          "name": "stdout"
        }
      ]
    },
    {
      "cell_type": "code",
      "metadata": {
        "colab": {
          "base_uri": "https://localhost:8080/"
        },
        "id": "Ere7ou65AfTh",
        "outputId": "89cbe48d-f576-41b0-c277-ae987e0c8042"
      },
      "source": [
        "# Creating Arrays with defined data type\n",
        "arr = np.array([1,2,3,4],dtype='S')\n",
        "print(arr)\n",
        "print(arr.dtype)\n",
        "\n",
        "# for i,u,f,S,U size can also be defined\n",
        "arr = np.array([1,2,3,4],dtype='i4')\n",
        "print(arr)\n",
        "print(arr.dtype)"
      ],
      "execution_count": null,
      "outputs": [
        {
          "output_type": "stream",
          "text": [
            "[b'1' b'2' b'3' b'4']\n",
            "|S1\n",
            "[1 2 3 4]\n",
            "int32\n"
          ],
          "name": "stdout"
        }
      ]
    },
    {
      "cell_type": "code",
      "metadata": {
        "colab": {
          "base_uri": "https://localhost:8080/"
        },
        "id": "HxOYM8YHAusS",
        "outputId": "8601bbfb-4f50-422e-a641-5557151d09a7"
      },
      "source": [
        "# Converting data type on existing arrays\n",
        "# example 1\n",
        "arr = np.array([1.222, 6.4, 3.1])\n",
        "newArr = arr.astype(int) # can also use 'i'\n",
        "print(newArr)\n",
        "print(newArr.dtype)\n",
        "\n",
        "#example 2\n",
        "arr = np.array([1, 0, 3])\n",
        "newArr = arr.astype(bool)\n",
        "print(newArr)\n",
        "print(newArr.dtype)"
      ],
      "execution_count": null,
      "outputs": [
        {
          "output_type": "stream",
          "text": [
            "[1 6 3]\n",
            "int64\n",
            "[ True False  True]\n",
            "bool\n"
          ],
          "name": "stdout"
        }
      ]
    },
    {
      "cell_type": "markdown",
      "metadata": {
        "id": "SSG0SevFBxgw"
      },
      "source": [
        "Copy vs View"
      ]
    },
    {
      "cell_type": "code",
      "metadata": {
        "id": "D3jkVZAZCFLL"
      },
      "source": [
        "# copy is a new array , view is a just a view of the original array\n",
        "# copy owns the data and any changes made to copy will not affect original array\n",
        "# changes made to view will affect the original array"
      ],
      "execution_count": null,
      "outputs": []
    },
    {
      "cell_type": "code",
      "metadata": {
        "colab": {
          "base_uri": "https://localhost:8080/"
        },
        "id": "5y3NVY-eCh52",
        "outputId": "f24db387-a24c-48ce-ca9d-c82057918776"
      },
      "source": [
        "arr = np.array([1,2,3,4,5])\n",
        "x = arr.copy()\n",
        "arr[1] = -23\n",
        "print(arr)\n",
        "print(x)\n",
        "\n",
        "# making changes in copy\n",
        "x[1] = 10000\n",
        "print('making changes in copy -')\n",
        "print(arr)\n",
        "print(x)"
      ],
      "execution_count": null,
      "outputs": [
        {
          "output_type": "stream",
          "text": [
            "[  1 -23   3   4   5]\n",
            "[1 2 3 4 5]\n",
            "making changes in copy -\n",
            "[  1 -23   3   4   5]\n",
            "[    1 10000     3     4     5]\n"
          ],
          "name": "stdout"
        }
      ]
    },
    {
      "cell_type": "code",
      "metadata": {
        "colab": {
          "base_uri": "https://localhost:8080/"
        },
        "id": "lsQWnlYRCooU",
        "outputId": "3e8c59d5-d206-4bad-8986-2b35eeb87634"
      },
      "source": [
        "arr = np.array([1,2,3,4,5])\n",
        "x = arr.view()\n",
        "arr[1] = -23\n",
        "print(arr)\n",
        "print(x)\n",
        "\n",
        "# making changes in view\n",
        "x[1] = 10000\n",
        "print('making changes in view -')\n",
        "print(arr)\n",
        "print(x)"
      ],
      "execution_count": null,
      "outputs": [
        {
          "output_type": "stream",
          "text": [
            "[  1 -23   3   4   5]\n",
            "[  1 -23   3   4   5]\n",
            "making changes in view -\n",
            "[    1 10000     3     4     5]\n",
            "[    1 10000     3     4     5]\n"
          ],
          "name": "stdout"
        }
      ]
    },
    {
      "cell_type": "code",
      "metadata": {
        "colab": {
          "base_uri": "https://localhost:8080/"
        },
        "id": "o73A3z8dC3xl",
        "outputId": "2d793df3-5753-48a0-d007-4c34281847e2"
      },
      "source": [
        "# base attribute returns None if the array owns the data\n",
        "# else base attribute refers to the original object\n",
        "arr = np.array([1,2,3,4,5])\n",
        "x = arr.copy()\n",
        "y = arr.view()\n",
        "print(x.base)\n",
        "print(y.base)"
      ],
      "execution_count": null,
      "outputs": [
        {
          "output_type": "stream",
          "text": [
            "None\n",
            "[1 2 3 4 5]\n"
          ],
          "name": "stdout"
        }
      ]
    },
    {
      "cell_type": "markdown",
      "metadata": {
        "id": "A_v_npapDs_O"
      },
      "source": [
        "Array Shape"
      ]
    },
    {
      "cell_type": "code",
      "metadata": {
        "colab": {
          "base_uri": "https://localhost:8080/"
        },
        "id": "U4EdxALMDu2N",
        "outputId": "3c215fcd-2ca8-4779-b456-5e539e17b502"
      },
      "source": [
        "# shape attribute returns a tuple with each index having the number of correponding elements\n",
        "arr = np.array([[1,2,3,4,5],[10,20,30,40,50]])\n",
        "print(arr.shape)"
      ],
      "execution_count": null,
      "outputs": [
        {
          "output_type": "stream",
          "text": [
            "(2, 5)\n"
          ],
          "name": "stdout"
        }
      ]
    },
    {
      "cell_type": "code",
      "metadata": {
        "colab": {
          "base_uri": "https://localhost:8080/"
        },
        "id": "LuL1_eV9EIPp",
        "outputId": "3711ef4b-f5c3-4be7-8ec9-560587eec871"
      },
      "source": [
        "arr = np.array([1,2,3,4,5], ndmin=5)\n",
        "print(arr)\n",
        "print('shape of array-', arr.shape)"
      ],
      "execution_count": null,
      "outputs": [
        {
          "output_type": "stream",
          "text": [
            "[[[[[1 2 3 4 5]]]]]\n",
            "shape of array- (1, 1, 1, 1, 5)\n"
          ],
          "name": "stdout"
        }
      ]
    },
    {
      "cell_type": "markdown",
      "metadata": {
        "id": "KietcPCUEe1T"
      },
      "source": [
        "Array Reshaping"
      ]
    },
    {
      "cell_type": "code",
      "metadata": {
        "colab": {
          "base_uri": "https://localhost:8080/"
        },
        "id": "Zeas7EKMEhGN",
        "outputId": "4e2709a6-6233-4cd5-a3bb-60a2e7e72d49"
      },
      "source": [
        "arr = np.array([1,2,3,4,5,6,7,8,9,10,11,12])\n",
        "newArr = arr.reshape(4,3)\n",
        "print(newArr)\n",
        "\n",
        "#returns copy or view?\n",
        "print(newArr.base)"
      ],
      "execution_count": null,
      "outputs": [
        {
          "output_type": "stream",
          "text": [
            "[[ 1  2  3]\n",
            " [ 4  5  6]\n",
            " [ 7  8  9]\n",
            " [10 11 12]]\n",
            "[ 1  2  3  4  5  6  7  8  9 10 11 12]\n"
          ],
          "name": "stdout"
        }
      ]
    },
    {
      "cell_type": "code",
      "metadata": {
        "colab": {
          "base_uri": "https://localhost:8080/"
        },
        "id": "OP-ndNKXE7EA",
        "outputId": "1445e440-cff8-4b1a-c8b9-a2d11eaa68bc"
      },
      "source": [
        "# unknown dimension - pass -1 as the value\n",
        "arr = np.array([1,2,3,4,5,6,7,8])\n",
        "newArr = arr.reshape(2,2,-1)\n",
        "print(newArr)\n",
        "# cannot pass -1 to more than one dimension"
      ],
      "execution_count": null,
      "outputs": [
        {
          "output_type": "stream",
          "text": [
            "[[[1 2]\n",
            "  [3 4]]\n",
            "\n",
            " [[5 6]\n",
            "  [7 8]]]\n"
          ],
          "name": "stdout"
        }
      ]
    },
    {
      "cell_type": "code",
      "metadata": {
        "id": "JptJRnkyFYN5"
      },
      "source": [
        "# Flattening the array - converting multidimensional array into 1D array\n",
        "# use reshape(-1)"
      ],
      "execution_count": null,
      "outputs": []
    },
    {
      "cell_type": "markdown",
      "metadata": {
        "id": "hdsXYgyTGSho"
      },
      "source": [
        "Array Iterating"
      ]
    },
    {
      "cell_type": "code",
      "metadata": {
        "id": "9LPlwFw_GUkO"
      },
      "source": [
        "# method 1 - using for loops\n",
        "# method 2 - using nditer()"
      ],
      "execution_count": null,
      "outputs": []
    },
    {
      "cell_type": "code",
      "metadata": {
        "colab": {
          "base_uri": "https://localhost:8080/"
        },
        "id": "M1GK-aSRHWo_",
        "outputId": "c3dfd216-f2bf-4d0c-a7d3-2c6d77766377"
      },
      "source": [
        "# iterating on each scalar element\n",
        "arr = np.array([[[1,2],[3,4]], [[5,6],[7,8]]])\n",
        "for x in np.nditer(arr):\n",
        "  print(x)"
      ],
      "execution_count": null,
      "outputs": [
        {
          "output_type": "stream",
          "text": [
            "1\n",
            "2\n",
            "3\n",
            "4\n",
            "5\n",
            "6\n",
            "7\n",
            "8\n"
          ],
          "name": "stdout"
        }
      ]
    },
    {
      "cell_type": "code",
      "metadata": {
        "colab": {
          "base_uri": "https://localhost:8080/"
        },
        "id": "1JXv_-hvHucu",
        "outputId": "69aa32f0-ba34-43ce-cfeb-9171e4857a49"
      },
      "source": [
        "# iterating array with different data types\n",
        "# use op_dtypes as argument and pass the expected datatype to change the datatype of the elements while iterating\n",
        "# NumPy does not change the data type of the element in-place so it needs some other space (buffer), to enable buffer in nditer , pass flags=['buffered']\n",
        "arr = np.array([1,2,3])\n",
        "for x in np.nditer(arr, flags=['buffered'],op_dtypes=['S']):\n",
        "  print(x)"
      ],
      "execution_count": null,
      "outputs": [
        {
          "output_type": "stream",
          "text": [
            "b'1'\n",
            "b'2'\n",
            "b'3'\n"
          ],
          "name": "stdout"
        }
      ]
    },
    {
      "cell_type": "code",
      "metadata": {
        "colab": {
          "base_uri": "https://localhost:8080/"
        },
        "id": "5TZkoanHIsU5",
        "outputId": "c5b0b331-ef93-4fad-e68b-47ba824de06a"
      },
      "source": [
        "# iterating with different step size\n",
        "# use filtering followed by iteration\n",
        "arr = np.array([[1,2,3,4], [5,6,7,8]])\n",
        "for x in np.nditer(arr[:,::2]):\n",
        "  print(x)"
      ],
      "execution_count": null,
      "outputs": [
        {
          "output_type": "stream",
          "text": [
            "1\n",
            "3\n",
            "5\n",
            "7\n"
          ],
          "name": "stdout"
        }
      ]
    },
    {
      "cell_type": "code",
      "metadata": {
        "colab": {
          "base_uri": "https://localhost:8080/"
        },
        "id": "tbGgV3DgJDYo",
        "outputId": "1444840d-7731-4119-f1b1-a13c0fd0ead6"
      },
      "source": [
        "# Enumerated iteration using ndenumerate()\n",
        "arr = np.array([1,2,3])\n",
        "for idx, x in np.ndenumerate(arr):\n",
        "  print(idx,x)"
      ],
      "execution_count": null,
      "outputs": [
        {
          "output_type": "stream",
          "text": [
            "(0,) 1\n",
            "(1,) 2\n",
            "(2,) 3\n"
          ],
          "name": "stdout"
        }
      ]
    },
    {
      "cell_type": "markdown",
      "metadata": {
        "id": "W1BPU0pnJZTk"
      },
      "source": [
        "Array Join"
      ]
    },
    {
      "cell_type": "code",
      "metadata": {
        "colab": {
          "base_uri": "https://localhost:8080/"
        },
        "id": "9Ri5mEcAJbix",
        "outputId": "8850e175-950d-4bcc-b80f-841109268e13"
      },
      "source": [
        "# pass the sequence of arrays to be joined to the concatenate() function, along with the axis(default=0)\n",
        "arr1 = np.array([1,2,3])\n",
        "arr2 = np.array([-3,-4,-5])\n",
        "arr = np.concatenate((arr1,arr2))\n",
        "print(arr)"
      ],
      "execution_count": null,
      "outputs": [
        {
          "output_type": "stream",
          "text": [
            "[ 1  2  3 -3 -4 -5]\n"
          ],
          "name": "stdout"
        }
      ]
    },
    {
      "cell_type": "code",
      "metadata": {
        "colab": {
          "base_uri": "https://localhost:8080/"
        },
        "id": "W_mp8PvmJ2ae",
        "outputId": "2d43124d-ebd8-4c1b-cea0-4a70347eabe8"
      },
      "source": [
        "# join 2D arrays along rows(axis = 1)\n",
        "arr1 = np.array([[1,2],[3,4]])\n",
        "arr2 = np.array([[10,20],[30,40]])\n",
        "arr = np.concatenate((arr1,arr2),axis=1)\n",
        "print(arr)"
      ],
      "execution_count": null,
      "outputs": [
        {
          "output_type": "stream",
          "text": [
            "[[ 1  2 10 20]\n",
            " [ 3  4 30 40]]\n"
          ],
          "name": "stdout"
        }
      ]
    },
    {
      "cell_type": "code",
      "metadata": {
        "colab": {
          "base_uri": "https://localhost:8080/"
        },
        "id": "ifrC7428KSEB",
        "outputId": "2989a685-66b2-4937-f996-2eba66688ed5"
      },
      "source": [
        "# join arrays using stack function\n",
        "arr1 = np.array([1,2,3])\n",
        "arr2 = np.array([-3,-4,-5])\n",
        "arr = np.stack((arr1,arr2),axis=1)\n",
        "print(arr)"
      ],
      "execution_count": null,
      "outputs": [
        {
          "output_type": "stream",
          "text": [
            "[[ 1 -3]\n",
            " [ 2 -4]\n",
            " [ 3 -5]]\n"
          ],
          "name": "stdout"
        }
      ]
    },
    {
      "cell_type": "code",
      "metadata": {
        "colab": {
          "base_uri": "https://localhost:8080/"
        },
        "id": "yt2pNpsvKqhW",
        "outputId": "eff18e56-69f5-409c-bb08-9eb71046b93d"
      },
      "source": [
        "# stacking along rows\n",
        "arr1 = np.array([1,2,3])\n",
        "arr2 = np.array([-3,-4,-5])\n",
        "arr = np.hstack((arr1,arr2))\n",
        "print(arr)"
      ],
      "execution_count": null,
      "outputs": [
        {
          "output_type": "stream",
          "text": [
            "[ 1  2  3 -3 -4 -5]\n"
          ],
          "name": "stdout"
        }
      ]
    },
    {
      "cell_type": "code",
      "metadata": {
        "colab": {
          "base_uri": "https://localhost:8080/"
        },
        "id": "JgWUXVEGK7zt",
        "outputId": "10320e28-55a9-45d3-9975-e4fbcaddcf3a"
      },
      "source": [
        "# stacking along columns\n",
        "arr1 = np.array([1,2,3])\n",
        "arr2 = np.array([-3,-4,-5])\n",
        "arr = np.vstack((arr1,arr2))\n",
        "print(arr)"
      ],
      "execution_count": null,
      "outputs": [
        {
          "output_type": "stream",
          "text": [
            "[[ 1  2  3]\n",
            " [-3 -4 -5]]\n"
          ],
          "name": "stdout"
        }
      ]
    },
    {
      "cell_type": "code",
      "metadata": {
        "colab": {
          "base_uri": "https://localhost:8080/"
        },
        "id": "vD3fjpyoLFyC",
        "outputId": "65331479-dde1-426d-b9ef-af4095160f44"
      },
      "source": [
        "# stacking along depth\n",
        "arr1 = np.array([1,2,3])\n",
        "arr2 = np.array([-3,-4,-5])\n",
        "arr = np.dstack((arr1,arr2))\n",
        "print(arr)"
      ],
      "execution_count": null,
      "outputs": [
        {
          "output_type": "stream",
          "text": [
            "[[[ 1 -3]\n",
            "  [ 2 -4]\n",
            "  [ 3 -5]]]\n"
          ],
          "name": "stdout"
        }
      ]
    },
    {
      "cell_type": "markdown",
      "metadata": {
        "id": "HJ1uxzpyLS2l"
      },
      "source": [
        "Array Split"
      ]
    },
    {
      "cell_type": "code",
      "metadata": {
        "id": "3Fd7qDbOLT4p",
        "colab": {
          "base_uri": "https://localhost:8080/"
        },
        "outputId": "5290e97c-36f8-4515-9a32-8a47e26312dd"
      },
      "source": [
        "arr = np.array([1,2,3,4,5,6])\n",
        "newarr = np.array_split(arr,3)\n",
        "print(newarr)"
      ],
      "execution_count": null,
      "outputs": [
        {
          "output_type": "stream",
          "text": [
            "[array([1, 2]), array([3, 4]), array([5, 6])]\n"
          ],
          "name": "stdout"
        }
      ]
    },
    {
      "cell_type": "code",
      "metadata": {
        "colab": {
          "base_uri": "https://localhost:8080/"
        },
        "id": "VGAMIR8D0PTM",
        "outputId": "036b2fbc-29be-4283-ffe6-1ce1737fbaee"
      },
      "source": [
        "# return value was an array containing three arrays\n",
        "# if the array has less elements than required, it will adjust from the end accordingly\n",
        "arr = np.array([1,2,3,4,5])\n",
        "newarr = np.array_split(arr,3)\n",
        "print(newarr)"
      ],
      "execution_count": null,
      "outputs": [
        {
          "output_type": "stream",
          "text": [
            "[array([1, 2]), array([3, 4]), array([5])]\n"
          ],
          "name": "stdout"
        }
      ]
    },
    {
      "cell_type": "code",
      "metadata": {
        "colab": {
          "base_uri": "https://localhost:8080/"
        },
        "id": "GsWrpqS30Z49",
        "outputId": "b2b1d92c-134c-4d24-947c-dc2c5777adf5"
      },
      "source": [
        "print(newarr[0])\n",
        "print(newarr[1])\n",
        "print(newarr[2])"
      ],
      "execution_count": null,
      "outputs": [
        {
          "output_type": "stream",
          "text": [
            "[1 2]\n",
            "[3 4]\n",
            "[5]\n"
          ],
          "name": "stdout"
        }
      ]
    },
    {
      "cell_type": "code",
      "metadata": {
        "colab": {
          "base_uri": "https://localhost:8080/"
        },
        "id": "ansTTHT31FgQ",
        "outputId": "a4c9da09-807f-48e8-897c-d24d2dc231f1"
      },
      "source": [
        "# Splitting 2D arrays\n",
        "\n",
        "arr = np.array([[1,2],[3,4],[5,6],[7,8],[9,10],[11,12]])\n",
        "newarr = np.array_split(arr,3)\n",
        "print(newarr)"
      ],
      "execution_count": null,
      "outputs": [
        {
          "output_type": "stream",
          "text": [
            "[array([[1, 2],\n",
            "       [3, 4]]), array([[5, 6],\n",
            "       [7, 8]]), array([[ 9, 10],\n",
            "       [11, 12]])]\n"
          ],
          "name": "stdout"
        }
      ]
    },
    {
      "cell_type": "code",
      "metadata": {
        "colab": {
          "base_uri": "https://localhost:8080/"
        },
        "id": "hmVR8AnZ1L2B",
        "outputId": "03371b60-e4d0-44b1-809f-ef5e7fc6715d"
      },
      "source": [
        "arr = np.array([[1,2,10],[3,4,20],[5,6,30],[7,8,40],[9,10,50],[11,12,60]])\n",
        "newarr = np.array_split(arr,3)\n",
        "print(newarr)"
      ],
      "execution_count": null,
      "outputs": [
        {
          "output_type": "stream",
          "text": [
            "[array([[ 1,  2, 10],\n",
            "       [ 3,  4, 20]]), array([[ 5,  6, 30],\n",
            "       [ 7,  8, 40]]), array([[ 9, 10, 50],\n",
            "       [11, 12, 60]])]\n"
          ],
          "name": "stdout"
        }
      ]
    },
    {
      "cell_type": "code",
      "metadata": {
        "colab": {
          "base_uri": "https://localhost:8080/"
        },
        "id": "vKcUfCvo1sHo",
        "outputId": "92ffee93-fcbf-4c20-a54b-6307493c9d51"
      },
      "source": [
        "# split along row AXIS =1\n",
        "arr = np.array([[1,2,10],[3,4,20],[5,6,30],[7,8,40],[9,10,50],[11,12,60]])\n",
        "newarr = np.array_split(arr,3,axis =1 )\n",
        "print(newarr)"
      ],
      "execution_count": null,
      "outputs": [
        {
          "output_type": "stream",
          "text": [
            "[array([[ 1],\n",
            "       [ 3],\n",
            "       [ 5],\n",
            "       [ 7],\n",
            "       [ 9],\n",
            "       [11]]), array([[ 2],\n",
            "       [ 4],\n",
            "       [ 6],\n",
            "       [ 8],\n",
            "       [10],\n",
            "       [12]]), array([[10],\n",
            "       [20],\n",
            "       [30],\n",
            "       [40],\n",
            "       [50],\n",
            "       [60]])]\n"
          ],
          "name": "stdout"
        }
      ]
    },
    {
      "cell_type": "markdown",
      "metadata": {
        "id": "CzhB-UZr2Vyv"
      },
      "source": [
        "Array Search"
      ]
    },
    {
      "cell_type": "code",
      "metadata": {
        "colab": {
          "base_uri": "https://localhost:8080/"
        },
        "id": "YJz7m_IR166_",
        "outputId": "ce4ccbc0-012c-4331-dadd-da70bd855ac9"
      },
      "source": [
        "# to search an array use where()\n",
        "arr = np.array([1,2,3,4,5,4,4])\n",
        "x = np.where(arr == 4) # find indexes where value is 4\n",
        "print(x)"
      ],
      "execution_count": null,
      "outputs": [
        {
          "output_type": "stream",
          "text": [
            "(array([3, 5, 6]),)\n"
          ],
          "name": "stdout"
        }
      ]
    },
    {
      "cell_type": "code",
      "metadata": {
        "colab": {
          "base_uri": "https://localhost:8080/"
        },
        "id": "jfmOSx592Poj",
        "outputId": "bb5e8fcb-b15b-4c07-b5ae-7ebd8a226977"
      },
      "source": [
        "# find indexes where values are odd\n",
        "x = np.where(arr%2 != 0)\n",
        "print(x)"
      ],
      "execution_count": null,
      "outputs": [
        {
          "output_type": "stream",
          "text": [
            "(array([0, 2, 4]),)\n"
          ],
          "name": "stdout"
        }
      ]
    },
    {
      "cell_type": "code",
      "metadata": {
        "colab": {
          "base_uri": "https://localhost:8080/"
        },
        "id": "16cbZ0sA32Sp",
        "outputId": "648bd5d3-1242-4005-de0d-c67066ca1e81"
      },
      "source": [
        "# searchsorted()\n",
        "# performs binary search in the array and returns the index where the specified value would be inserted to maintain the search order\n",
        "\n",
        "arr = np.array([6,7,8,9])\n",
        "x = np.searchsorted(arr,8)\n",
        "print(x)"
      ],
      "execution_count": null,
      "outputs": [
        {
          "output_type": "stream",
          "text": [
            "2\n"
          ],
          "name": "stdout"
        }
      ]
    },
    {
      "cell_type": "code",
      "metadata": {
        "id": "w1rXsmDY4R1Z"
      },
      "source": [
        "# number 8 should be inserted at position 2 to remain in sorted order"
      ],
      "execution_count": null,
      "outputs": []
    },
    {
      "cell_type": "code",
      "metadata": {
        "colab": {
          "base_uri": "https://localhost:8080/"
        },
        "id": "bps5lx3L4ZRf",
        "outputId": "908fc9f0-5484-489c-b490-feab6e73f661"
      },
      "source": [
        "# search from right side\n",
        "x = np.searchsorted(arr,8,side='right')\n",
        "print(x)"
      ],
      "execution_count": null,
      "outputs": [
        {
          "output_type": "stream",
          "text": [
            "3\n"
          ],
          "name": "stdout"
        }
      ]
    },
    {
      "cell_type": "code",
      "metadata": {
        "colab": {
          "base_uri": "https://localhost:8080/"
        },
        "id": "A0OYk9oR4gs7",
        "outputId": "3057d2db-cc81-4be5-ba9a-04cb5ef16682"
      },
      "source": [
        "# search multiple values\n",
        "x = np.searchsorted(arr,[2,7,10])\n",
        "print(x)"
      ],
      "execution_count": null,
      "outputs": [
        {
          "output_type": "stream",
          "text": [
            "[0 1 4]\n"
          ],
          "name": "stdout"
        }
      ]
    },
    {
      "cell_type": "markdown",
      "metadata": {
        "id": "OQ-ZJcq-41hi"
      },
      "source": [
        "Array Sort"
      ]
    },
    {
      "cell_type": "code",
      "metadata": {
        "colab": {
          "base_uri": "https://localhost:8080/"
        },
        "id": "0LDifUxG4zof",
        "outputId": "deb5a4d1-ba40-484d-fe1a-df756fd5e7fd"
      },
      "source": [
        "print(np.sort(np.array([10,2,45])))"
      ],
      "execution_count": null,
      "outputs": [
        {
          "output_type": "stream",
          "text": [
            "[ 2 10 45]\n"
          ],
          "name": "stdout"
        }
      ]
    },
    {
      "cell_type": "code",
      "metadata": {
        "colab": {
          "base_uri": "https://localhost:8080/"
        },
        "id": "C-Ah6CS75EMu",
        "outputId": "629a852e-8bba-4d76-94df-36350a50bc3e"
      },
      "source": [
        "# sorting 2D array\n",
        "arr = np.array([[3,2,4],[5,0,1]])\n",
        "print(np.sort(arr))"
      ],
      "execution_count": null,
      "outputs": [
        {
          "output_type": "stream",
          "text": [
            "[[2 3 4]\n",
            " [0 1 5]]\n"
          ],
          "name": "stdout"
        }
      ]
    },
    {
      "cell_type": "code",
      "metadata": {
        "id": "xeC30MSk5Wex"
      },
      "source": [
        "# both arrays within the 2D array will be sorted"
      ],
      "execution_count": null,
      "outputs": []
    },
    {
      "cell_type": "markdown",
      "metadata": {
        "id": "Mo9nPGoy5dUQ"
      },
      "source": [
        "Array Filter"
      ]
    },
    {
      "cell_type": "code",
      "metadata": {
        "colab": {
          "base_uri": "https://localhost:8080/"
        },
        "id": "eXz0YcLK5b7I",
        "outputId": "ab4b644c-d86f-48be-c806-4ab3aa113548"
      },
      "source": [
        "# filter using boolean index list\n",
        "# if the value at an index is True that element is contained in the filtered array,\n",
        "# if the value at that index is False, element is excluded from the filtered array\n",
        "\n",
        "arr = np.array([23,45,61,10])\n",
        "x = [True, True, False, True]\n",
        "newarr = arr[x]\n",
        "print(newarr)"
      ],
      "execution_count": null,
      "outputs": [
        {
          "output_type": "stream",
          "text": [
            "[23 45 10]\n"
          ],
          "name": "stdout"
        }
      ]
    },
    {
      "cell_type": "code",
      "metadata": {
        "colab": {
          "base_uri": "https://localhost:8080/"
        },
        "id": "5RNjzf5i6EG-",
        "outputId": "f7511195-432f-4d04-fae4-40b13756ae33"
      },
      "source": [
        "# create a filter array that will return only values higher than 42 without hardcoding the boolean index list\n",
        "filter_arr = []\n",
        "\n",
        "for i in arr:\n",
        "  if i > 42:\n",
        "    filter_arr.append(True)\n",
        "  else :\n",
        "    filter_arr.append(False)\n",
        "newarr = arr[filter_arr]\n",
        "print(newarr)"
      ],
      "execution_count": null,
      "outputs": [
        {
          "output_type": "stream",
          "text": [
            "[45 61]\n"
          ],
          "name": "stdout"
        }
      ]
    },
    {
      "cell_type": "code",
      "metadata": {
        "colab": {
          "base_uri": "https://localhost:8080/"
        },
        "id": "lcfChe5v6kv0",
        "outputId": "84b674b2-3680-466d-baea-b44e54510329"
      },
      "source": [
        "# creating filter directly from array\n",
        "arr = np.array([23,45,61,10])\n",
        "filter_arr = arr > 42\n",
        "newarr = arr[filter_arr]\n",
        "print(newarr)"
      ],
      "execution_count": null,
      "outputs": [
        {
          "output_type": "stream",
          "text": [
            "[45 61]\n"
          ],
          "name": "stdout"
        }
      ]
    },
    {
      "cell_type": "markdown",
      "metadata": {
        "id": "tTfV0M-f698z"
      },
      "source": [
        "Random"
      ]
    },
    {
      "cell_type": "code",
      "metadata": {
        "id": "KvVxT93h675a"
      },
      "source": [
        "from numpy import random"
      ],
      "execution_count": null,
      "outputs": []
    },
    {
      "cell_type": "code",
      "metadata": {
        "colab": {
          "base_uri": "https://localhost:8080/"
        },
        "id": "u4XzjHUh7HzM",
        "outputId": "8b1b64bf-856e-4e18-e6a5-12ab9cd0047d"
      },
      "source": [
        "x = random.randint(10000)\n",
        "print(x)"
      ],
      "execution_count": null,
      "outputs": [
        {
          "output_type": "stream",
          "text": [
            "8130\n"
          ],
          "name": "stdout"
        }
      ]
    },
    {
      "cell_type": "code",
      "metadata": {
        "colab": {
          "base_uri": "https://localhost:8080/"
        },
        "id": "e7laW6mz7L7t",
        "outputId": "fed27b7b-3248-42ca-c6ce-070469647039"
      },
      "source": [
        "# generate random float\n",
        "x = random.rand() # returns random float between 0 and 1\n",
        "print(x)"
      ],
      "execution_count": null,
      "outputs": [
        {
          "output_type": "stream",
          "text": [
            "0.8690628626677945\n"
          ],
          "name": "stdout"
        }
      ]
    },
    {
      "cell_type": "code",
      "metadata": {
        "colab": {
          "base_uri": "https://localhost:8080/"
        },
        "id": "EYdu-GmH7Un9",
        "outputId": "c79551cd-0b8e-43b2-a077-cc3b3b6ef366"
      },
      "source": [
        "# generate random array using size()\n",
        "x = random.randint(100,size=(4))\n",
        "print(x)"
      ],
      "execution_count": null,
      "outputs": [
        {
          "output_type": "stream",
          "text": [
            "[64 41 67 42]\n"
          ],
          "name": "stdout"
        }
      ]
    },
    {
      "cell_type": "code",
      "metadata": {
        "colab": {
          "base_uri": "https://localhost:8080/"
        },
        "id": "OgDT84AS7kNR",
        "outputId": "7d074149-4374-410a-ee54-0bcc835fce16"
      },
      "source": [
        "x = random.randint(100,size=(4,2))\n",
        "print(x)"
      ],
      "execution_count": null,
      "outputs": [
        {
          "output_type": "stream",
          "text": [
            "[[ 6 65]\n",
            " [58 53]\n",
            " [91 51]\n",
            " [39 95]]\n"
          ],
          "name": "stdout"
        }
      ]
    },
    {
      "cell_type": "code",
      "metadata": {
        "colab": {
          "base_uri": "https://localhost:8080/"
        },
        "id": "pMziXsIL7qXm",
        "outputId": "14107980-a493-46d2-baa7-e7c9d4572602"
      },
      "source": [
        "# specify shape using rand() for floats\n",
        "x = random.rand(5)\n",
        "print(x)"
      ],
      "execution_count": null,
      "outputs": [
        {
          "output_type": "stream",
          "text": [
            "[0.07949847 0.59287312 0.93578076 0.28245908 0.36939771]\n"
          ],
          "name": "stdout"
        }
      ]
    },
    {
      "cell_type": "code",
      "metadata": {
        "colab": {
          "base_uri": "https://localhost:8080/"
        },
        "id": "CMzOWRaP71uK",
        "outputId": "8817ee2b-2a34-4b01-8b43-f76894515dfd"
      },
      "source": [
        "# generate random number from array using choice()\n",
        "x = random.choice([3,23,1,4])\n",
        "print(x)"
      ],
      "execution_count": null,
      "outputs": [
        {
          "output_type": "stream",
          "text": [
            "23\n"
          ],
          "name": "stdout"
        }
      ]
    },
    {
      "cell_type": "code",
      "metadata": {
        "colab": {
          "base_uri": "https://localhost:8080/"
        },
        "id": "psMCJtGh8BM-",
        "outputId": "aee22dd7-7258-4698-9e86-7ef8bb767bae"
      },
      "source": [
        "x = random.choice([3,23,1,4], size=(2,3))\n",
        "print(x)"
      ],
      "execution_count": null,
      "outputs": [
        {
          "output_type": "stream",
          "text": [
            "[[ 3 23  3]\n",
            " [ 1 23  3]]\n"
          ],
          "name": "stdout"
        }
      ]
    },
    {
      "cell_type": "code",
      "metadata": {
        "colab": {
          "base_uri": "https://localhost:8080/"
        },
        "id": "4yE0-rBM8GjT",
        "outputId": "e9da7fce-6cfa-4383-9686-96aee2bd9225"
      },
      "source": [
        "# random data distribution \n",
        "# generate 2D array ( 3x5 ) where each value has to be 3,5,7,9 with probabilities 0.1,0.3,0.6,0\n",
        "x = random.choice([3,5,7,9], p = [0.1,0.3,0.6,0.0], size = (3,5))\n",
        "print(x)"
      ],
      "execution_count": null,
      "outputs": [
        {
          "output_type": "stream",
          "text": [
            "[[5 7 7 7 7]\n",
            " [7 7 7 7 5]\n",
            " [5 5 7 3 5]]\n"
          ],
          "name": "stdout"
        }
      ]
    },
    {
      "cell_type": "code",
      "metadata": {
        "colab": {
          "base_uri": "https://localhost:8080/"
        },
        "id": "_ZBu8IYQ_ZB7",
        "outputId": "d5fdec4d-0f64-44e4-e248-cd8a5711008f"
      },
      "source": [
        "# Random permuations of elements using shuffle() and permutation()\n",
        "# shuffling - changing arrangement of elements in-place i.e. the array itself\n",
        "arr = np.array ([1,2,3,4,5])\n",
        "random.shuffle(arr)\n",
        "print(arr)"
      ],
      "execution_count": null,
      "outputs": [
        {
          "output_type": "stream",
          "text": [
            "[4 3 2 1 5]\n"
          ],
          "name": "stdout"
        }
      ]
    },
    {
      "cell_type": "code",
      "metadata": {
        "colab": {
          "base_uri": "https://localhost:8080/"
        },
        "id": "VxlWC5t8_0KI",
        "outputId": "7affb318-30b2-4b7f-ad2f-77f1827a6947"
      },
      "source": [
        "# shuffle method makes changes to original array\n",
        "# permutation method returns a re-arranged array  without making changes to original array\n",
        "arr = np.array ([1,2,3,4,5])\n",
        "print(random.permutation(arr))\n",
        "print(arr)"
      ],
      "execution_count": null,
      "outputs": [
        {
          "output_type": "stream",
          "text": [
            "[1 3 4 5 2]\n",
            "[1 2 3 4 5]\n"
          ],
          "name": "stdout"
        }
      ]
    },
    {
      "cell_type": "code",
      "metadata": {
        "colab": {
          "base_uri": "https://localhost:8080/"
        },
        "id": "tZdhOLj5APtB",
        "outputId": "0f966e6c-56ff-46e4-bf86-5de8f9bcd7a6"
      },
      "source": [
        "# normal distribution\n",
        "# random.normal() has three parameters - \n",
        "# loc - (mean) where the peak of the bell exists\n",
        "# scale - (standard deviation) how flat the graph distribution should be\n",
        "# size - shape of returned array\n",
        "x = random.normal(loc=1, scale=2, size=(2,3))\n",
        "print(x)"
      ],
      "execution_count": null,
      "outputs": [
        {
          "output_type": "stream",
          "text": [
            "[[ 3.04311776  4.25620236  1.82192822]\n",
            " [ 1.69034498 -1.23142426  3.25184617]]\n"
          ],
          "name": "stdout"
        }
      ]
    },
    {
      "cell_type": "code",
      "metadata": {
        "colab": {
          "base_uri": "https://localhost:8080/",
          "height": 323
        },
        "id": "OyxFRh1vgkWu",
        "outputId": "fa41ce85-94e8-4fb1-f611-d62cdeee6e72"
      },
      "source": [
        "# visualization of normal distribution\n",
        "import matplotlib.pyplot as plt\n",
        "import seaborn as sns\n",
        "\n",
        "sns.distplot(random.normal(size=1000), hist = False)\n",
        "plt.show()"
      ],
      "execution_count": null,
      "outputs": [
        {
          "output_type": "stream",
          "text": [
            "/usr/local/lib/python3.6/dist-packages/seaborn/distributions.py:2557: FutureWarning: `distplot` is a deprecated function and will be removed in a future version. Please adapt your code to use either `displot` (a figure-level function with similar flexibility) or `kdeplot` (an axes-level function for kernel density plots).\n",
            "  warnings.warn(msg, FutureWarning)\n"
          ],
          "name": "stderr"
        },
        {
          "output_type": "display_data",
          "data": {
            "image/png": "[encoded data removed]",
            "text/plain": [
              "<Figure size 432x288 with 1 Axes>"
            ]
          },
          "metadata": {
            "tags": [],
            "needs_background": "light"
          }
        }
      ]
    },
    {
      "cell_type": "code",
      "metadata": {
        "colab": {
          "base_uri": "https://localhost:8080/",
          "height": 319
        },
        "id": "W5Z_RUaNgwIz",
        "outputId": "dc93a69d-eede-4545-bbab-37973d514e7b"
      },
      "source": [
        "# binomial distribution (Discrete)\n",
        "# parameters - \n",
        "# n - number of trials\n",
        "# p - probability of occurence of each trial\n",
        "# size - the shape of returned array\n",
        "\n",
        "sns.distplot(random.binomial(n=10, p=0.5, size=1000), hist=True, kde = False)\n",
        "plt.show()"
      ],
      "execution_count": null,
      "outputs": [
        {
          "output_type": "stream",
          "text": [
            "/usr/local/lib/python3.6/dist-packages/seaborn/distributions.py:2557: FutureWarning: `distplot` is a deprecated function and will be removed in a future version. Please adapt your code to use either `displot` (a figure-level function with similar flexibility) or `histplot` (an axes-level function for histograms).\n",
            "  warnings.warn(msg, FutureWarning)\n"
          ],
          "name": "stderr"
        },
        {
          "output_type": "display_data",
          "data": {
            "image/png": "[encoded data removed]",
            "text/plain": [
              "<Figure size 432x288 with 1 Axes>"
            ]
          },
          "metadata": {
            "tags": [],
            "needs_background": "light"
          }
        }
      ]
    },
    {
      "cell_type": "code",
      "metadata": {
        "colab": {
          "base_uri": "https://localhost:8080/",
          "height": 353
        },
        "id": "UQjOlfpZhhEZ",
        "outputId": "98de06a0-1549-43db-9d13-da3dddd90712"
      },
      "source": [
        "# normal vs binomial distribution\n",
        "# normal dist. - continuos whereas binomial is discrete but if there are enough data points it will be quite similar to normal with certain loc and scale\n",
        "sns.distplot(random.normal(loc=50,scale=5,size=1000),hist=False, label='normal')\n",
        "sns.distplot(random.binomial(n=100, p=0.5, size=1000),hist = False, label='binomial')\n",
        "plt.show()"
      ],
      "execution_count": null,
      "outputs": [
        {
          "output_type": "stream",
          "text": [
            "/usr/local/lib/python3.6/dist-packages/seaborn/distributions.py:2557: FutureWarning: `distplot` is a deprecated function and will be removed in a future version. Please adapt your code to use either `displot` (a figure-level function with similar flexibility) or `kdeplot` (an axes-level function for kernel density plots).\n",
            "  warnings.warn(msg, FutureWarning)\n",
            "/usr/local/lib/python3.6/dist-packages/seaborn/distributions.py:2557: FutureWarning: `distplot` is a deprecated function and will be removed in a future version. Please adapt your code to use either `displot` (a figure-level function with similar flexibility) or `kdeplot` (an axes-level function for kernel density plots).\n",
            "  warnings.warn(msg, FutureWarning)\n"
          ],
          "name": "stderr"
        },
        {
          "output_type": "display_data",
          "data": {
            "image/png": "[encoded data removed]",
            "text/plain": [
              "<Figure size 432x288 with 1 Axes>"
            ]
          },
          "metadata": {
            "tags": [],
            "needs_background": "light"
          }
        }
      ]
    },
    {
      "cell_type": "code",
      "metadata": {
        "colab": {
          "base_uri": "https://localhost:8080/",
          "height": 369
        },
        "id": "DR2s5h94iCag",
        "outputId": "a92b3d64-d9c7-4646-f4f3-d840050691e4"
      },
      "source": [
        "# Poisson Distribution (Discrete)\n",
        "# parameters - \n",
        "# lam - rate or known number of occurences\n",
        "# size - the shape of returned array\n",
        "sns.displot(random.poisson(lam=2,size=1000),kde=False)\n",
        "plt.show()\n",
        "# note - binomial is for discrete trials whereas poisson is for continuous trials"
      ],
      "execution_count": null,
      "outputs": [
        {
          "output_type": "display_data",
          "data": {
            "image/png": "[encoded data removed]",
            "text/plain": [
              "<Figure size 360x360 with 1 Axes>"
            ]
          },
          "metadata": {
            "tags": [],
            "needs_background": "light"
          }
        }
      ]
    },
    {
      "cell_type": "code",
      "metadata": {
        "colab": {
          "base_uri": "https://localhost:8080/",
          "height": 319
        },
        "id": "BnPVa8wtmCpN",
        "outputId": "35901d77-4f13-4bd9-85a2-7d418ab7a9eb"
      },
      "source": [
        "# Uniform distribution\n",
        "# parameters -\n",
        "# a - lower bound (default 0.0)\n",
        "# b - upper bound (default 1.0)\n",
        "# size - the shape of returned array\n",
        "sns.distplot(random.uniform(size=1000),hist=False)\n",
        "plt.show()"
      ],
      "execution_count": null,
      "outputs": [
        {
          "output_type": "stream",
          "text": [
            "/usr/local/lib/python3.6/dist-packages/seaborn/distributions.py:2557: FutureWarning: `distplot` is a deprecated function and will be removed in a future version. Please adapt your code to use either `displot` (a figure-level function with similar flexibility) or `kdeplot` (an axes-level function for kernel density plots).\n",
            "  warnings.warn(msg, FutureWarning)\n"
          ],
          "name": "stderr"
        },
        {
          "output_type": "display_data",
          "data": {
            "image/png": "[encoded data removed]",
            "text/plain": [
              "<Figure size 432x288 with 1 Axes>"
            ]
          },
          "metadata": {
            "tags": [],
            "needs_background": "light"
          }
        }
      ]
    }
  ]
}